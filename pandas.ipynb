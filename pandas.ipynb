{
  "cells": [
    {
      "cell_type": "code",
      "execution_count": null,
      "id": "d27c5292",
      "metadata": {
        "id": "d27c5292"
      },
      "outputs": [],
      "source": [
        "import pandas as pd"
      ]
    },
    {
      "cell_type": "markdown",
      "id": "61a60b1d",
      "metadata": {
        "id": "61a60b1d"
      },
      "source": [
        "### Two main data structures: Series and Dataframe"
      ]
    },
    {
      "cell_type": "code",
      "execution_count": null,
      "id": "af1523e7",
      "metadata": {
        "id": "af1523e7"
      },
      "outputs": [],
      "source": [
        "# Creating a series\n",
        "series = pd.Series([\"Nepal\", \"India\", \"China\"])\n",
        "series"
      ]
    },
    {
      "cell_type": "code",
      "execution_count": null,
      "id": "c417f714",
      "metadata": {
        "id": "c417f714"
      },
      "outputs": [],
      "source": [
        "# Creating another pandas series\n",
        "capitals = pd.Series([\"Kathmandu\", \"New Delhi\", \"Beijing\"])\n",
        "capitals"
      ]
    },
    {
      "cell_type": "code",
      "execution_count": null,
      "id": "938980a6",
      "metadata": {
        "id": "938980a6"
      },
      "outputs": [],
      "source": [
        "# Creating our first dataframe from above series\n",
        "df = pd.DataFrame({\"Country\": series, \"Capital\": capitals})\n",
        "df"
      ]
    },
    {
      "cell_type": "code",
      "execution_count": null,
      "id": "c5e023a1",
      "metadata": {
        "id": "c5e023a1"
      },
      "outputs": [],
      "source": [
        "# Add row to a dataframe\n",
        "new_row = {\"Country\": \"England\", \"Capital\": \"London\"}\n",
        "df = df.append(new_row, ignore_index=True)\n",
        "df"
      ]
    },
    {
      "cell_type": "code",
      "execution_count": null,
      "id": "d0a2340f",
      "metadata": {
        "id": "d0a2340f"
      },
      "outputs": [],
      "source": [
        "# Add column to dataframe\n",
        "new_column = [\"Asia\", \"Asia\", \"Asia\", \"Europe\"]\n",
        "df[\"Continent\"] = new_column\n",
        "df"
      ]
    },
    {
      "cell_type": "code",
      "execution_count": null,
      "id": "db1d7274",
      "metadata": {
        "id": "db1d7274"
      },
      "outputs": [],
      "source": [
        "# Deleting rows in a dataframe\n",
        "df = df.drop([3])\n",
        "df"
      ]
    },
    {
      "cell_type": "code",
      "execution_count": null,
      "id": "4b351e79",
      "metadata": {
        "id": "4b351e79"
      },
      "outputs": [],
      "source": [
        "# Deleting columns in a dataframe\n",
        "df = df.drop(columns=[\"Continent\", \"Capital\"])\n",
        "df"
      ]
    },
    {
      "cell_type": "markdown",
      "id": "8dc6a003",
      "metadata": {
        "id": "8dc6a003"
      },
      "source": [
        "Most of the time we donot create dataframe from series. We import dataframe from spreadsheet or CSVs."
      ]
    },
    {
      "cell_type": "code",
      "execution_count": null,
      "id": "c3e5f7a4",
      "metadata": {
        "id": "c3e5f7a4"
      },
      "outputs": [],
      "source": [
        "car_sales = pd.read_csv('car_sales.csv')\n",
        "car_sales"
      ]
    },
    {
      "cell_type": "code",
      "execution_count": null,
      "id": "e3ddf682",
      "metadata": {
        "id": "e3ddf682"
      },
      "outputs": [],
      "source": [
        "# importing from json or excel sheet\n",
        "# car_json = pd.read_json()\n",
        "# car_excel = pd.read_excel()"
      ]
    },
    {
      "cell_type": "markdown",
      "id": "3f924433",
      "metadata": {
        "id": "3f924433"
      },
      "source": [
        " The headings on the top in bold are the column names. In the left hand side there is a index column. Each index refers to a particular row in the dataframe. In a pandas dataframe row is axis 0 and column is axis 1 which is a very important thing to remember."
      ]
    },
    {
      "cell_type": "code",
      "execution_count": null,
      "id": "f39f006c",
      "metadata": {
        "id": "f39f006c"
      },
      "outputs": [],
      "source": [
        "# Export a dataframe\n",
        "car_sales.to_csv(\"exported_car_sales.csv\")"
      ]
    },
    {
      "cell_type": "code",
      "execution_count": null,
      "id": "facf01a9",
      "metadata": {
        "id": "facf01a9"
      },
      "outputs": [],
      "source": [
        "!ls"
      ]
    },
    {
      "cell_type": "code",
      "execution_count": null,
      "id": "0fbd2b3b",
      "metadata": {
        "id": "0fbd2b3b"
      },
      "outputs": [],
      "source": [
        "exported_car_sales = pd.read_csv(\"exported_car_sales.csv\")\n",
        "exported_car_sales"
      ]
    },
    {
      "cell_type": "code",
      "execution_count": null,
      "id": "90cbc4a0",
      "metadata": {
        "id": "90cbc4a0"
      },
      "outputs": [],
      "source": [
        "# Export the dataframe without the index column\n",
        "car_sales.to_csv(\"exported_car_sales.csv\", index=False)"
      ]
    },
    {
      "cell_type": "code",
      "execution_count": null,
      "id": "99012d6f",
      "metadata": {
        "id": "99012d6f"
      },
      "outputs": [],
      "source": [
        "exported_car_sales = pd.read_csv(\"exported_car_sales.csv\")\n",
        "exported_car_sales"
      ]
    },
    {
      "cell_type": "markdown",
      "id": "d456b6e3",
      "metadata": {
        "id": "d456b6e3"
      },
      "source": [
        "### Describe data with pandas"
      ]
    },
    {
      "cell_type": "code",
      "execution_count": null,
      "id": "828448c2",
      "metadata": {
        "id": "828448c2"
      },
      "outputs": [],
      "source": [
        "# information about data types of columns\n",
        "car_sales.dtypes"
      ]
    },
    {
      "cell_type": "code",
      "execution_count": null,
      "id": "1bdff8f4",
      "metadata": {
        "id": "1bdff8f4"
      },
      "outputs": [],
      "source": [
        "# view all the columns of the dataframe\n",
        "car_sales.columns"
      ]
    },
    {
      "cell_type": "code",
      "execution_count": null,
      "id": "2235de94",
      "metadata": {
        "id": "2235de94"
      },
      "outputs": [],
      "source": [
        "car_sales.describe()"
      ]
    },
    {
      "cell_type": "markdown",
      "id": "3952341f",
      "metadata": {
        "id": "3952341f"
      },
      "source": [
        " There is no price description above because Price column is an object data type and not integer."
      ]
    },
    {
      "cell_type": "code",
      "execution_count": null,
      "id": "38e8c6ac",
      "metadata": {
        "id": "38e8c6ac"
      },
      "outputs": [],
      "source": [
        "car_sales.info()"
      ]
    },
    {
      "cell_type": "code",
      "execution_count": null,
      "id": "b92e5617",
      "metadata": {
        "id": "b92e5617"
      },
      "outputs": [],
      "source": [
        "# Getting mean of column from dataframe\n",
        "car_sales['Traveled (KM)'].mean()"
      ]
    },
    {
      "cell_type": "code",
      "execution_count": null,
      "id": "fdca9f5d",
      "metadata": {
        "id": "fdca9f5d"
      },
      "outputs": [],
      "source": [
        "# Getting sum of all dataframe columns\n",
        "car_sales.sum()"
      ]
    },
    {
      "cell_type": "code",
      "execution_count": null,
      "id": "6a6dc8a6",
      "metadata": {
        "id": "6a6dc8a6"
      },
      "outputs": [],
      "source": [
        "# Getting sum of individual columns\n",
        "car_sales.Doors.sum()"
      ]
    },
    {
      "cell_type": "code",
      "execution_count": null,
      "id": "648bd4ba",
      "metadata": {
        "id": "648bd4ba"
      },
      "outputs": [],
      "source": [
        "# Getting the shape of dataframe\n",
        "car_sales.shape"
      ]
    },
    {
      "cell_type": "code",
      "execution_count": null,
      "id": "dafdb903",
      "metadata": {
        "id": "dafdb903"
      },
      "outputs": [],
      "source": [
        "car_sales"
      ]
    },
    {
      "cell_type": "markdown",
      "id": "a088cc87",
      "metadata": {
        "id": "a088cc87"
      },
      "source": [
        "### Selecting and Viewing data"
      ]
    },
    {
      "cell_type": "code",
      "execution_count": null,
      "id": "3b596b0c",
      "metadata": {
        "id": "3b596b0c"
      },
      "outputs": [],
      "source": [
        "# Getting the top 5 rows of the dataframe\n",
        "car_sales.head()"
      ]
    },
    {
      "cell_type": "code",
      "execution_count": null,
      "id": "c51c19c6",
      "metadata": {
        "id": "c51c19c6"
      },
      "outputs": [],
      "source": [
        "# Getting the top 3\n",
        "car_sales.head(3)"
      ]
    },
    {
      "cell_type": "code",
      "execution_count": null,
      "id": "6866b219",
      "metadata": {
        "id": "6866b219"
      },
      "outputs": [],
      "source": [
        "# Getting the bottom 5 rows of the dataframe\n",
        "car_sales.tail()"
      ]
    },
    {
      "cell_type": "markdown",
      "id": "3929c208",
      "metadata": {
        "id": "3929c208"
      },
      "source": [
        "### Loc and Iloc for indexing in a dataframe"
      ]
    },
    {
      "cell_type": "code",
      "execution_count": null,
      "id": "746413da",
      "metadata": {
        "id": "746413da"
      },
      "outputs": [],
      "source": [
        "# Create a new series to demonstrate the difference between loc and iloc\n",
        "colors = pd.Series([\"red\", \"green\", \"blue\", \"purple\"], index = [1, 2, 3,2])\n",
        "colors"
      ]
    },
    {
      "cell_type": "code",
      "execution_count": null,
      "id": "1ab342d8",
      "metadata": {
        "id": "1ab342d8"
      },
      "outputs": [],
      "source": [
        "colors.loc[2]"
      ]
    },
    {
      "cell_type": "code",
      "execution_count": null,
      "id": "6800550f",
      "metadata": {
        "id": "6800550f"
      },
      "outputs": [],
      "source": [
        "colors.iloc[2]"
      ]
    },
    {
      "cell_type": "code",
      "execution_count": null,
      "id": "a8d6edfa",
      "metadata": {
        "id": "a8d6edfa"
      },
      "outputs": [],
      "source": [
        "# using loc and iloc on our car sales dataframe\n",
        "car_sales"
      ]
    },
    {
      "cell_type": "code",
      "execution_count": null,
      "id": "32c970a0",
      "metadata": {
        "id": "32c970a0"
      },
      "outputs": [],
      "source": [
        "# loc refers to index\n",
        "car_sales.loc[3]"
      ]
    },
    {
      "cell_type": "code",
      "execution_count": null,
      "id": "d77bceb5",
      "metadata": {
        "id": "d77bceb5"
      },
      "outputs": [],
      "source": [
        "# iloc refers to position\n",
        "car_sales.iloc[3]"
      ]
    },
    {
      "cell_type": "code",
      "execution_count": null,
      "id": "0b324db9",
      "metadata": {
        "id": "0b324db9"
      },
      "outputs": [],
      "source": [
        "# selecting one value with iloc\n",
        "car_sales.iloc[1,1]"
      ]
    },
    {
      "cell_type": "code",
      "execution_count": null,
      "id": "0c99ba5e",
      "metadata": {
        "id": "0c99ba5e"
      },
      "outputs": [],
      "source": [
        "# We can use slicing in iloc and loc\n",
        "car_sales.loc[3:]"
      ]
    },
    {
      "cell_type": "code",
      "execution_count": null,
      "id": "0febde8d",
      "metadata": {
        "id": "0febde8d"
      },
      "outputs": [],
      "source": [
        "car_sales.iloc[:5,:2]"
      ]
    },
    {
      "cell_type": "code",
      "execution_count": null,
      "id": "c3003ce7",
      "metadata": {
        "id": "c3003ce7"
      },
      "outputs": [],
      "source": [
        "# viewing single column of a dataframe\n",
        "car_sales[\"Traveled (KM)\"]"
      ]
    },
    {
      "cell_type": "code",
      "execution_count": null,
      "id": "ae3a1a07",
      "metadata": {
        "id": "ae3a1a07"
      },
      "outputs": [],
      "source": [
        "# another method for selecting column of a dataframe\n",
        "car_sales.Colour"
      ]
    },
    {
      "cell_type": "code",
      "execution_count": null,
      "id": "fc136a39",
      "metadata": {
        "id": "fc136a39"
      },
      "outputs": [],
      "source": [
        "# sorting values using a column\n",
        "car_sales.sort_values(\"Doors\")"
      ]
    },
    {
      "cell_type": "code",
      "execution_count": null,
      "id": "753b7c3f",
      "metadata": {
        "id": "753b7c3f"
      },
      "outputs": [],
      "source": [
        "# sorting values alphabetically\n",
        "car_sales.sort_values(\"Brand\")"
      ]
    },
    {
      "cell_type": "code",
      "execution_count": null,
      "id": "82abd5a6",
      "metadata": {
        "id": "82abd5a6"
      },
      "outputs": [],
      "source": [
        "car_sales.Doors = car_sales.Doors.astype('object')\n",
        "car_sales.dtypes"
      ]
    },
    {
      "cell_type": "code",
      "execution_count": null,
      "id": "f04d58a3",
      "metadata": {
        "id": "f04d58a3"
      },
      "outputs": [],
      "source": [
        "car_sales.Doors.sum()"
      ]
    },
    {
      "cell_type": "code",
      "execution_count": null,
      "id": "1999692a",
      "metadata": {
        "id": "1999692a"
      },
      "outputs": [],
      "source": [
        "car_sales.dtypes"
      ]
    },
    {
      "cell_type": "code",
      "execution_count": null,
      "id": "e0b704db",
      "metadata": {
        "id": "e0b704db"
      },
      "outputs": [],
      "source": [
        "# sorting in descending order\n",
        "car_sales.sort_values(\"Traveled (KM)\", ascending=False)"
      ]
    },
    {
      "cell_type": "markdown",
      "id": "14e0706f",
      "metadata": {
        "id": "14e0706f"
      },
      "source": [
        "### Filtering using specific values"
      ]
    },
    {
      "cell_type": "code",
      "execution_count": null,
      "id": "64555a89",
      "metadata": {
        "id": "64555a89"
      },
      "outputs": [],
      "source": [
        "# Getting all the white cars and saving to new dataframe\n",
        "white_cars = car_sales[car_sales[\"Colour\"]==\"White\"]\n",
        "white_cars"
      ]
    },
    {
      "cell_type": "code",
      "execution_count": null,
      "id": "f4ae4ec3",
      "metadata": {
        "id": "f4ae4ec3"
      },
      "outputs": [],
      "source": [
        "# reset index after applying filters\n",
        "white_cars = white_cars.reset_index(drop=True)\n",
        "white_cars"
      ]
    },
    {
      "cell_type": "code",
      "execution_count": null,
      "id": "ca4597ba",
      "metadata": {
        "id": "ca4597ba"
      },
      "outputs": [],
      "source": [
        "car_sales[\"Doors\"] > 3"
      ]
    },
    {
      "cell_type": "code",
      "execution_count": null,
      "id": "puiaL4HXvkxK",
      "metadata": {
        "id": "puiaL4HXvkxK"
      },
      "outputs": [],
      "source": [
        "car_sales[car_sales[\"Doors\"]>3]"
      ]
    },
    {
      "cell_type": "code",
      "execution_count": null,
      "id": "0d5c8074",
      "metadata": {
        "id": "0d5c8074"
      },
      "outputs": [],
      "source": [
        "# applying multiple filters\n",
        "car_sales[(car_sales[\"Traveled (KM)\"]<50000) & (car_sales[\"Doors\"]>3)]"
      ]
    },
    {
      "cell_type": "code",
      "execution_count": null,
      "id": "94befe95",
      "metadata": {
        "id": "94befe95"
      },
      "outputs": [],
      "source": [
        "# Crosstab to see number of cars by brand and colour\n",
        "pd.crosstab(car_sales[\"Colour\"], car_sales[\"Brand\"])"
      ]
    },
    {
      "cell_type": "code",
      "execution_count": null,
      "id": "9772e4d1",
      "metadata": {
        "id": "9772e4d1"
      },
      "outputs": [],
      "source": []
    },
    {
      "cell_type": "code",
      "execution_count": null,
      "id": "c37a9ab1",
      "metadata": {
        "id": "c37a9ab1"
      },
      "outputs": [],
      "source": [
        "# Group by to view statistics according to same group\n",
        "car_sales.groupby([\"Brand\"]).mean()"
      ]
    },
    {
      "cell_type": "code",
      "execution_count": null,
      "id": "1905ce92",
      "metadata": {
        "id": "1905ce92"
      },
      "outputs": [],
      "source": [
        "car_sales.groupby([\"Colour\"]).mean()"
      ]
    },
    {
      "cell_type": "markdown",
      "id": "29e156eb",
      "metadata": {
        "id": "29e156eb"
      },
      "source": [
        "### Converting data types of columns in a dataframe"
      ]
    },
    {
      "cell_type": "code",
      "execution_count": null,
      "id": "caca3d38",
      "metadata": {
        "id": "caca3d38"
      },
      "outputs": [],
      "source": [
        "car_sales"
      ]
    },
    {
      "cell_type": "code",
      "execution_count": null,
      "id": "d7287a4e",
      "metadata": {
        "id": "d7287a4e"
      },
      "outputs": [],
      "source": [
        "# Remove unwanted characters from the Prices\n",
        "car_sales[\"Price\"] = car_sales[\"Price\"].str.replace(\"[\\$\\,]\", \"\", regex=True)\n",
        "car_sales"
      ]
    },
    {
      "cell_type": "code",
      "execution_count": null,
      "id": "d27be918",
      "metadata": {
        "id": "d27be918"
      },
      "outputs": [],
      "source": [
        "# Convert the price column from object to integer.\n",
        "car_sales[\"Price\"] = car_sales[\"Price\"].astype('float')"
      ]
    },
    {
      "cell_type": "code",
      "execution_count": null,
      "id": "b3aa6664",
      "metadata": {
        "id": "b3aa6664"
      },
      "outputs": [],
      "source": [
        "car_sales.dtypes"
      ]
    },
    {
      "cell_type": "code",
      "execution_count": null,
      "id": "3095ef13",
      "metadata": {
        "id": "3095ef13"
      },
      "outputs": [],
      "source": [
        "car_sales"
      ]
    },
    {
      "cell_type": "code",
      "execution_count": null,
      "id": "c2ce9ab8",
      "metadata": {
        "id": "c2ce9ab8"
      },
      "outputs": [],
      "source": []
    },
    {
      "cell_type": "code",
      "execution_count": null,
      "id": "df8368a9",
      "metadata": {
        "id": "df8368a9"
      },
      "outputs": [],
      "source": [
        "# Plot a line plot using pandas\n",
        "car_sales[\"Price\"].plot(legend=True)\n",
        "car_sales[\"Doors\"].plot(secondary_y=True, legend=True)"
      ]
    },
    {
      "cell_type": "code",
      "execution_count": null,
      "id": "36e0fe77",
      "metadata": {
        "id": "36e0fe77"
      },
      "outputs": [],
      "source": [
        "# Plot a histogram using pandas\n",
        "car_sales[\"Price\"].hist();"
      ]
    },
    {
      "cell_type": "code",
      "execution_count": null,
      "id": "18cc8332",
      "metadata": {
        "id": "18cc8332"
      },
      "outputs": [],
      "source": [
        "car_sales[\"Brand\"] = car_sales[\"Brand\"].str.lower()\n",
        "car_sales"
      ]
    },
    {
      "cell_type": "code",
      "execution_count": null,
      "id": "4fbe0ca7",
      "metadata": {
        "id": "4fbe0ca7"
      },
      "outputs": [],
      "source": [
        "# Renaming column in pandas\n",
        "car_sales = car_sales.rename(columns={\"Colour\": \"Color\"})\n",
        "car_sales"
      ]
    },
    {
      "cell_type": "markdown",
      "id": "45c2ff22",
      "metadata": {
        "id": "45c2ff22"
      },
      "source": [
        "### Handling missing values in pandas"
      ]
    },
    {
      "cell_type": "code",
      "execution_count": null,
      "id": "45caca55",
      "metadata": {
        "id": "45caca55"
      },
      "outputs": [],
      "source": [
        "cars_missing = pd.read_csv(\"car_sales_missing.csv\")"
      ]
    },
    {
      "cell_type": "code",
      "execution_count": null,
      "id": "abf0f956",
      "metadata": {
        "id": "abf0f956"
      },
      "outputs": [],
      "source": [
        "cars_missing"
      ]
    },
    {
      "cell_type": "code",
      "execution_count": null,
      "id": "55be69f3",
      "metadata": {
        "id": "55be69f3"
      },
      "outputs": [],
      "source": [
        "cars_missing.isna().sum()"
      ]
    },
    {
      "cell_type": "code",
      "execution_count": null,
      "id": "60228971",
      "metadata": {
        "id": "60228971"
      },
      "outputs": [],
      "source": [
        "# Filling missing values with the mean of the column\n",
        "cars_missing[\"Traveled (KM)\"].fillna(cars_missing[\"Traveled (KM)\"].mean(), inplace=True)\n",
        "cars_missing"
      ]
    },
    {
      "cell_type": "code",
      "execution_count": null,
      "id": "25ea01a2",
      "metadata": {
        "id": "25ea01a2"
      },
      "outputs": [],
      "source": [
        "# dropping rows with missing values\n",
        "cars_missing.dropna()"
      ]
    },
    {
      "cell_type": "code",
      "execution_count": null,
      "id": "UJsyXdaBx7Tq",
      "metadata": {
        "id": "UJsyXdaBx7Tq"
      },
      "outputs": [],
      "source": [
        "cars_missing"
      ]
    },
    {
      "cell_type": "code",
      "execution_count": null,
      "id": "6bb5a9cb",
      "metadata": {
        "id": "6bb5a9cb"
      },
      "outputs": [],
      "source": [
        "cars_missing.dropna(inplace=True)\n",
        "cars_missing"
      ]
    },
    {
      "cell_type": "code",
      "execution_count": null,
      "id": "ddd71a12",
      "metadata": {
        "id": "ddd71a12"
      },
      "outputs": [],
      "source": [
        "cars_missing.isna().sum()"
      ]
    },
    {
      "cell_type": "markdown",
      "id": "50ba6f6c",
      "metadata": {
        "id": "50ba6f6c"
      },
      "source": [
        "Other than filling missing values and deleting rows with missing values there are other methods of handling missing values as well. These can be explored in the pandas documentation"
      ]
    },
    {
      "cell_type": "markdown",
      "id": "d5232448",
      "metadata": {
        "id": "d5232448"
      },
      "source": [
        "### pandas documentation for handling missing values\n",
        "https://pandas.pydata.org/pandas-docs/stable/user_guide/missing_data.html"
      ]
    },
    {
      "cell_type": "code",
      "execution_count": null,
      "id": "2ac0428f",
      "metadata": {
        "id": "2ac0428f"
      },
      "outputs": [],
      "source": [
        "car_sales"
      ]
    },
    {
      "cell_type": "code",
      "execution_count": null,
      "id": "83d0f38b",
      "metadata": {
        "id": "83d0f38b"
      },
      "outputs": [],
      "source": [
        "# Adding new column from existing ones\n",
        "car_sales[\"Fuel used\"] = car_sales[\"Traveled (KM)\"]/30\n",
        "car_sales"
      ]
    },
    {
      "cell_type": "code",
      "execution_count": null,
      "id": "ef904cea",
      "metadata": {
        "id": "ef904cea"
      },
      "outputs": [],
      "source": [
        "# shuffle the dataframe and get a sample\n",
        "car_shuffled = car_sales.sample(frac=0.5)\n",
        "car_shuffled"
      ]
    },
    {
      "cell_type": "code",
      "execution_count": null,
      "id": "5fb3ec78",
      "metadata": {
        "id": "5fb3ec78"
      },
      "outputs": [],
      "source": [
        "# reset index of the dataframe\n",
        "car_shuffled.reset_index(drop=True, inplace=True)\n",
        "car_shuffled"
      ]
    },
    {
      "cell_type": "markdown",
      "id": "ccceee2b",
      "metadata": {
        "id": "ccceee2b"
      },
      "source": [
        "### Applying a function to a column"
      ]
    },
    {
      "cell_type": "code",
      "execution_count": null,
      "id": "bc73e027",
      "metadata": {
        "id": "bc73e027"
      },
      "outputs": [],
      "source": [
        "# Change price from dollars to ruppees using lambda function\n",
        "car_sales[\"Price\"] = car_sales[\"Price\"].apply(lambda x: x * 116)\n",
        "car_sales"
      ]
    },
    {
      "cell_type": "code",
      "execution_count": null,
      "id": "6ced3b56",
      "metadata": {
        "id": "6ced3b56"
      },
      "outputs": [],
      "source": [
        "def ruppee_to_dollar(ruppee):\n",
        "    return ruppee/116"
      ]
    },
    {
      "cell_type": "code",
      "execution_count": null,
      "id": "10aeed19",
      "metadata": {
        "id": "10aeed19"
      },
      "outputs": [],
      "source": [
        "# Apply function using explicit function\n",
        "car_sales[\"Price\"] = car_sales[\"Price\"].apply(ruppee_to_dollar)\n",
        "car_sales"
      ]
    }
  ],
  "metadata": {
    "colab": {
      "collapsed_sections": [
        "50ba6f6c"
      ],
      "provenance": []
    },
    "interpreter": {
      "hash": "9170219c2c7b10da973935bf2a23769128f55ffdf9ff46e42ce98ad1eea1024d"
    },
    "kernelspec": {
      "display_name": "Python 3",
      "language": "python",
      "name": "python3"
    },
    "language_info": {
      "codemirror_mode": {
        "name": "ipython",
        "version": 3
      },
      "file_extension": ".py",
      "mimetype": "text/x-python",
      "name": "python",
      "nbconvert_exporter": "python",
      "pygments_lexer": "ipython3",
      "version": "3.8.8"
    }
  },
  "nbformat": 4,
  "nbformat_minor": 5
}